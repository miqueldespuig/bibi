{
 "cells": [
  {
   "cell_type": "markdown",
   "metadata": {},
   "source": [
    "# Collect Data"
   ]
  },
  {
   "cell_type": "markdown",
   "metadata": {},
   "source": [
    "## Environment Setup\n",
    "---"
   ]
  },
  {
   "cell_type": "code",
   "execution_count": 1,
   "metadata": {},
   "outputs": [],
   "source": [
    "import requests\n",
    "from bs4 import BeautifulSoup"
   ]
  },
  {
   "cell_type": "markdown",
   "metadata": {},
   "source": [
    "## Requests and Beautiful Soup\n",
    "---"
   ]
  },
  {
   "cell_type": "code",
   "execution_count": 166,
   "metadata": {},
   "outputs": [],
   "source": [
    "BASE_URL = 'https://gero.icnea.net/Servidor.aspx'\n",
    "PROPERTIES_LIST_URL = 'https://gero.icnea.net/HosEmpEstabliments.aspx'\n",
    "from data.login import USER, PASSWORD # Confidential Data Stored Away from Git"
   ]
  },
  {
   "cell_type": "code",
   "execution_count": 98,
   "metadata": {},
   "outputs": [
    {
     "name": "stdout",
     "output_type": "stream",
     "text": [
      "{'User-Agent': 'python-requests/2.28.1', 'Accept-Encoding': 'gzip, deflate, br', 'Accept': '*/*', 'Connection': 'keep-alive'}\n",
      "<RequestsCookieJar[]>\n"
     ]
    }
   ],
   "source": [
    "# Create a Session object to store all data needed for scraping\n",
    "session = requests.Session()\n",
    "print(session.headers)\n",
    "print(session.cookies)"
   ]
  },
  {
   "cell_type": "code",
   "execution_count": 99,
   "metadata": {},
   "outputs": [],
   "source": [
    "# Header Values from My Browser, Microsoft Edge. It works fine with the site.\n",
    "ACCEPT = 'text/html,application/xhtml+xml,application/xml;q=0.9,image/webp,image/apng,*/*;q=0.8,application/signed-exchange;v=b3;q=0.9'\n",
    "ACCEPT_ENCODING = 'gzip, deflate, br'\n",
    "ACCEPT_LANGUAGE = 'en-US,en;q=0.9,es;q=0.8,ca;q=0.7'\n",
    "CACHE_CONTROL = 'no-cache'\n",
    "DNT = '1'\n",
    "PRAGMA = 'no-cache'\n",
    "SEC_CH_UA = '\" Not;A Brand\";v=\"99\", \"Microsoft Edge\";v=\"103\", \"Chromium\";v=\"103\"'\n",
    "SEC_CH_UA_MOBILE = '?0'\n",
    "SEC_CH_UA_PLATFORM = '\"Windows\"'\n",
    "SEC_FETCH_DEST = 'document'\n",
    "SEC_FETCH_MODE = 'navigate'\n",
    "SEC_FETCH_SITE = 'none'\n",
    "SEC_FETCH_USER = '?1'\n",
    "UPGRADE_INSECURE_REQUESTS = '1'\n",
    "USER_AGENT = 'Mozilla/5.0 (Windows NT 10.0; Win64; x64) AppleWebKit/537.36 (KHTML, like Gecko) Chrome/103.0.5060.114 Safari/537.36 Edg/103.0.1264.62'\n"
   ]
  },
  {
   "cell_type": "code",
   "execution_count": 100,
   "metadata": {},
   "outputs": [
    {
     "name": "stdout",
     "output_type": "stream",
     "text": [
      "{'accept': 'text/html,application/xhtml+xml,application/xml;q=0.9,image/webp,image/apng,*/*;q=0.8,application/signed-exchange;v=b3;q=0.9', 'accept-encoding': 'gzip, deflate, br', 'accept-language': 'en-US,en;q=0.9,es;q=0.8,ca;q=0.7', 'cache-control': 'no-cache', 'dnt': '1', 'pragma': 'no-cache', 'sec-ch-ua': '\" Not;A Brand\";v=\"99\", \"Microsoft Edge\";v=\"103\", \"Chromium\";v=\"103\"', 'sec-ch-ua-platform': '\"Windows\"', 'sec-fetch-dest': 'document', 'sec-fetch-site': 'none', 'sec-fecth_user': '?1', 'upgrade-insecure-requests': '1', 'user-agent': 'Mozilla/5.0 (Windows NT 10.0; Win64; x64) AppleWebKit/537.36 (KHTML, like Gecko) Chrome/103.0.5060.114 Safari/537.36 Edg/103.0.1264.62'}\n"
     ]
    }
   ],
   "source": [
    "# Create a headers dictionary to be used with our session\n",
    "headers = {\n",
    "    'accept': ACCEPT,\n",
    "    'accept-encoding': ACCEPT_ENCODING,\n",
    "    'accept-language': ACCEPT_LANGUAGE,\n",
    "    'cache-control': CACHE_CONTROL,\n",
    "    'dnt': DNT,\n",
    "    'pragma': PRAGMA,\n",
    "    'sec-ch-ua': SEC_CH_UA,\n",
    "    'sec-ch-ua-platform': SEC_CH_UA_PLATFORM,\n",
    "    'sec-fetch-dest': SEC_FETCH_DEST,\n",
    "    'sec-fetch-site': SEC_FETCH_SITE,\n",
    "    'sec-fecth_user': SEC_FETCH_USER,\n",
    "    'upgrade-insecure-requests': UPGRADE_INSECURE_REQUESTS,\n",
    "    'user-agent': USER_AGENT\n",
    "}\n",
    "print(headers)"
   ]
  },
  {
   "cell_type": "code",
   "execution_count": 101,
   "metadata": {},
   "outputs": [
    {
     "name": "stdout",
     "output_type": "stream",
     "text": [
      "{'accept': 'text/html,application/xhtml+xml,application/xml;q=0.9,image/webp,image/apng,*/*;q=0.8,application/signed-exchange;v=b3;q=0.9', 'accept-encoding': 'gzip, deflate, br', 'accept-language': 'en-US,en;q=0.9,es;q=0.8,ca;q=0.7', 'cache-control': 'no-cache', 'dnt': '1', 'pragma': 'no-cache', 'sec-ch-ua': '\" Not;A Brand\";v=\"99\", \"Microsoft Edge\";v=\"103\", \"Chromium\";v=\"103\"', 'sec-ch-ua-platform': '\"Windows\"', 'sec-fetch-dest': 'document', 'sec-fetch-site': 'none', 'sec-fecth_user': '?1', 'upgrade-insecure-requests': '1', 'user-agent': 'Mozilla/5.0 (Windows NT 10.0; Win64; x64) AppleWebKit/537.36 (KHTML, like Gecko) Chrome/103.0.5060.114 Safari/537.36 Edg/103.0.1264.62'}\n"
     ]
    }
   ],
   "source": [
    "# Assign custom headers to the session\n",
    "session.headers = headers\n",
    "print(session.headers)"
   ]
  },
  {
   "cell_type": "code",
   "execution_count": 108,
   "metadata": {},
   "outputs": [
    {
     "name": "stdout",
     "output_type": "stream",
     "text": [
      "200\n",
      "\n",
      "<!DOCTYPE html>\n",
      "<html>\n",
      "<head>\n",
      "    <title id=\"Title\">© icnea</title>\n",
      "    <meta charset=\"utf-8\">\n",
      "    <meta name=\"robots\" content=\"noindex,nofollow\">\n",
      "    <meta name=\"author\" content=\"icnea\">\n",
      "    <meta name=\"google\" content=\"notranslate\">\n",
      "    <meta name=\"viewport\" content=\"width=device-width, initial-scale=1.0\">\n",
      "    <link rel=\"stylesheet\" href=\"https://fonts.googleapis.com/css?family=Open+Sans:300,400,600,700|Overpass\">\n",
      "    <link rel=\"stylesheet\" href=\"assets/fonts/font-awesome/css/all.min.css\">\n",
      "    <link rel=\"stylesheet\" href=\"assets/fonts/zocial/zocial.css\">\n",
      "    <link rel=\"stylesheet\" href=\"assets/fonts/glyphicons-pro/glyphicons-pro.css\">\n",
      "    <link rel=\"stylesheet\" href=\"assets/fonts/icomoon/icomoon.css\">\n",
      "    <link rel=\"stylesheet\" href=\"assets/fonts/octicons/octicons.css\">\n",
      "    <link rel=\"stylesheet\" href=\"assets/css/theme.css\">\n",
      "    <link rel=\"stylesheet\" href=\"assets/css/admin-forms.css\">\n",
      "    <link rel=\"stylesheet\" href=\"assets/css/estils.css\">\n",
      "    <link rel=\"shortcut icon\" href=\"assets/img/favicon.ico\">\n",
      "</head>\n",
      "<body class=\"external-page sb-l-c sb-r-c\">\n",
      "    <form method=\"post\" action=\"./Servidor.aspx\" id=\"frm\" class=\"mare\" onkeypress=\"return event.keyCode!=13\">\n",
      "<div class=\"aspNetHidden\">\n",
      "<input type=\"hidden\" name=\"_TSM_HiddenField_\" id=\"_TSM_HiddenField_\" value=\"ZaMfZ6yYhPPHZ1NeEf8j6-t902-6pHpn2MehV0eep-I1\" />\n",
      "<input type=\"hidden\" name=\"__EVENTTARGET\" id=\"__EVENTTARGET\" value=\"\" />\n",
      "<input type=\"hidden\" name=\"__EVENTARGUMENT\" id=\"__EVENTARGUMENT\" value=\"\" />\n",
      "<input type=\"hidden\" name=\"__VIEWSTATE\" id=\"__VIEWSTATE\" value=\"uUiMtb3NcR04QfueQe0MAMvmnxWy1dEvPfTpEKTkzkNExZDHhi4EyWUIn6aIY/IABvqCJPW2gLNrfnws4SSgImGc+RG+//LlmiIKvZIu9i06C3enmHRzF2FAMg+23Gin/GrScbwq5BRGizKCxwf+A1Ep/H661VJgOn6Xu+7HQOYoqvO/RK6wDw3STtwe7c5ERv62F4DRH84SELt3H8Sn8IeJGbWvYhOzoWOdXcTVFYzvxWZG1yvtDC9Zy+L6A/JNt7ArzHbCer7RGii3o9ft7+iAutfJH5mh9/dl0lL9IpZRGTNPQL3De7FWVudu/aH4lzJiE1HZOxl/BCn70s575iwWhSJTZ4FSLXJDfzooOUtBAdV1JClIZSlH6lbpHHEjdl66CqHVAnaKZZnQb9pDUY82OlRGOyNnTb4+pF2IGNaIXLUJ6ozmikS3tkQtyQtL7G6qf5ZTLDGdC0SVcNaP65tR5vfshtNyu+Gciot1SGH7cGBy87u8qiTEo0FlZntedC0vyFBP0pdptrQ7dZPcxWXGwVMbCctJAhAwhnUK0m0/lbAmY2dOyaS1PtHZg6f2yPSkzPMIDuo8cNKULqX07aHYzi9fSahCuG+2g0SLsDQjrI/e9M16/RcqIRF/tWJW0ILKszPPTjaxKq+4d6MR2rthlvZjg+n7bi1pdtGa8x7F2yhCeKgy0PYgrPL5XxWSLodqZ4JO/dSyqorgkmDnbPEnUj8ShC13jt6XPxMTegsyHksMztIAuHI/bSxxozdPjUcQ/mDERaJ5UbOKPbJVClXuC3nFKLAS2i32d4KHtltJeJnL4/mj7dcRraXygXy/XTrRdgoaBGxg/LQNwK7f767PLiIfvg5pIPhLxqNSMpG9ijBPcGQLsIG8Zrq0HQO329G6Ry1n02AZQHdlG59Ifwib7Ek0Umyq9jwWZZkhXAR1Si97CDyv/Y58ysvSAKumgYcsx3VGomIHQsncI/3jS1j7sr0SJrSXM/f/h8lLKHW1vyHJ5g3smpNgImUQNajCAFSmFqPzmstuE7sbpr52dX54/qBBv92+IdZWNFmGeesc2fqQ4lTwokJA0q6oSVeWHVo0jQuTByxflJfW+2HvKA==\" />\n",
      "</div>\n",
      "\n",
      "<script type=\"text/javascript\">\n",
      "//<![CDATA[\n",
      "var theForm = document.forms['frm'];\n",
      "if (!theForm) {\n",
      "    theForm = document.frm;\n",
      "}\n",
      "function __doPostBack(eventTarget, eventArgument) {\n",
      "    if (!theForm.onsubmit || (theForm.onsubmit() != false)) {\n",
      "        theForm.__EVENTTARGET.value = eventTarget;\n",
      "        theForm.__EVENTARGUMENT.value = eventArgument;\n",
      "        theForm.submit();\n",
      "    }\n",
      "}\n",
      "//]]>\n",
      "</script>\n",
      "\n",
      "\n",
      "<script src=\"/WebResource.axd?d=pynGkmcFUV13He1Qd6_TZJoFp3JJLG7VeUIEethSiT5dknWwYWQl1z3LZy0cKmH4NeiY3_3hUH47GCxhhz_a4A2&amp;t=637823401705833095\" type=\"text/javascript\"></script>\n",
      "\n",
      "\n",
      "<script type=\"text/javascript\">\n",
      "//<![CDATA[\n",
      "var __cultureInfo = {\"name\":\"en-GB\",\"numberFormat\":{\"CurrencyDecimalDigits\":2,\"CurrencyDecimalSeparator\":\".\",\"IsReadOnly\":false,\"CurrencyGroupSizes\":[3],\"NumberGroupSizes\":[3],\"PercentGroupSizes\":[3],\"CurrencyGroupSeparator\":\",\",\"CurrencySymbol\":\"£\",\"NaNSymbol\":\"NaN\",\"CurrencyNegativePattern\":1,\"NumberNegativePattern\":1,\"PercentPositivePattern\":1,\"PercentNegativePattern\":1,\"NegativeInfinitySymbol\":\"-∞\",\"NegativeSign\":\"-\",\"NumberDecimalDigits\":2,\"NumberDecimalSeparator\":\".\",\"NumberGroupSeparator\":\",\",\"CurrencyPositivePattern\":0,\"PositiveInfinitySymbol\":\"∞\",\"PositiveSign\":\"+\",\"PercentDecimalDigits\":2,\"PercentDecimalSeparator\":\".\",\"PercentGroupSeparator\":\",\",\"PercentSymbol\":\"%\",\"PerMilleSymbol\":\"‰\",\"NativeDigits\":[\"0\",\"1\",\"2\",\"3\",\"4\",\"5\",\"6\",\"7\",\"8\",\"9\"],\"DigitSubstitution\":1},\"dateTimeFormat\":{\"AMDesignator\":\"AM\",\"Calendar\":{\"MinSupportedDateTime\":\"\\/Date(-62135596800000)\\/\",\"MaxSupportedDateTime\":\"\\/Date(253402297199999)\\/\",\"AlgorithmType\":1,\"CalendarType\":1,\"Eras\":[1],\"TwoDigitYearMax\":2029,\"IsReadOnly\":false},\"DateSeparator\":\"/\",\"FirstDayOfWeek\":1,\"CalendarWeekRule\":2,\"FullDateTimePattern\":\"dd MMMM yyyy HH:mm:ss\",\"LongDatePattern\":\"dd MMMM yyyy\",\"LongTimePattern\":\"HH:mm:ss\",\"MonthDayPattern\":\"d MMMM\",\"PMDesignator\":\"PM\",\"RFC1123Pattern\":\"ddd, dd MMM yyyy HH\\u0027:\\u0027mm\\u0027:\\u0027ss \\u0027GMT\\u0027\",\"ShortDatePattern\":\"dd/MM/yyyy\",\"ShortTimePattern\":\"HH:mm\",\"SortableDateTimePattern\":\"yyyy\\u0027-\\u0027MM\\u0027-\\u0027dd\\u0027T\\u0027HH\\u0027:\\u0027mm\\u0027:\\u0027ss\",\"TimeSeparator\":\":\",\"UniversalSortableDateTimePattern\":\"yyyy\\u0027-\\u0027MM\\u0027-\\u0027dd HH\\u0027:\\u0027mm\\u0027:\\u0027ss\\u0027Z\\u0027\",\"YearMonthPattern\":\"MMMM yyyy\",\"AbbreviatedDayNames\":[\"Sun\",\"Mon\",\"Tue\",\"Wed\",\"Thu\",\"Fri\",\"Sat\"],\"ShortestDayNames\":[\"Su\",\"Mo\",\"Tu\",\"We\",\"Th\",\"Fr\",\"Sa\"],\"DayNames\":[\"Sunday\",\"Monday\",\"Tuesday\",\"Wednesday\",\"Thursday\",\"Friday\",\"Saturday\"],\"AbbreviatedMonthNames\":[\"Jan\",\"Feb\",\"Mar\",\"Apr\",\"May\",\"Jun\",\"Jul\",\"Aug\",\"Sep\",\"Oct\",\"Nov\",\"Dec\",\"\"],\"MonthNames\":[\"January\",\"February\",\"March\",\"April\",\"May\",\"June\",\"July\",\"August\",\"September\",\"October\",\"November\",\"December\",\"\"],\"IsReadOnly\":false,\"NativeCalendarName\":\"Gregorian Calendar\",\"AbbreviatedMonthGenitiveNames\":[\"Jan\",\"Feb\",\"Mar\",\"Apr\",\"May\",\"Jun\",\"Jul\",\"Aug\",\"Sep\",\"Oct\",\"Nov\",\"Dec\",\"\"],\"MonthGenitiveNames\":[\"January\",\"February\",\"March\",\"April\",\"May\",\"June\",\"July\",\"August\",\"September\",\"October\",\"November\",\"December\",\"\"]},\"eras\":[1,\"A.D.\",null,0]};//]]>\n",
      "</script>\n",
      "\n",
      "<script src=\"/ScriptResource.axd?d=x6wALODbMJK5e0eRC_p1LYhkHYv6tvbJMFdtDdiHxuKIPG35d4_OZki2_NUoZNco1lJHMN2knhPYJ7yU-7eIcf5QAtdId-p65uxVprIPZr8klQzgOzojq5fwIQ_56vF90&amp;t=ffffffffda74082d\" type=\"text/javascript\"></script>\n",
      "<script src=\"/ScriptResource.axd?d=P5lTttoqSeZXoYRLQMIScPZF2y5lQD78XIzlJGQ7FMTzjReaHW_TZ8i0HsUgQIN1TppPFtEAwH-mcU-mz0ie-EieZl8OcRb9xF1-LKil_HvuC0mrPLYHNhn8D9ddU28X0&amp;t=ffffffffda74082d\" type=\"text/javascript\"></script>\n",
      "<script src=\"/Servidor.aspx?_TSM_CombinedScripts_=True&amp;v=ZaMfZ6yYhPPHZ1NeEf8j6-t902-6pHpn2MehV0eep-I1&amp;_TSM_Bundles_=&amp;cdn=False\" type=\"text/javascript\"></script>\n",
      "<script src=\"/ScriptResource.axd?d=XGoPW3Unw0ILT0eb9sSUa17noixO4rLPQP4hnMpL4deFT98b-IlzkR82jw8G6DzpqLCNohIJS55SUe3SYLYiZPwaUjm3zsZ2UqT-C0vHJL2yvizeI8PwzAb6G9AfbrtfhgB31zQplbOJRp-2OzKbwA2&amp;t=ffffffffda74082d\" type=\"text/javascript\"></script>\n",
      "<script src=\"/ScriptResource.axd?d=uvA9ANM76Fbpm1FfUlagnZUwBDCuyRwXcFZ1aA8ywvIz9F_Coa_oE3Mecz6FNh3_OXUkxzaTZtZfs6nyvv0As_Q8M5rY_k8V3sB-NUdH4W4CohAYTCZ3VbSFjqveIm-PZd7pCJzMAblZmAYwbSe9_g2&amp;t=ffffffffda74082d\" type=\"text/javascript\"></script>\n",
      "<div class=\"aspNetHidden\">\n",
      "\n",
      "\t<input type=\"hidden\" name=\"__VIEWSTATEGENERATOR\" id=\"__VIEWSTATEGENERATOR\" value=\"899FD010\" />\n",
      "</div>\n",
      "        <input type=\"hidden\" name=\"idi\" id=\"idi\" value=\"2\" />\n",
      "        <input type=\"hidden\" name=\"log\" id=\"log\" />\n",
      "        <div id=\"main\">\n",
      "            <section id=\"content_wrapper\">\n",
      "                <section id=\"content\">\n",
      "                    <div class=\"admin-form theme-info mw500\" id=\"\">\n",
      "\n",
      "                        <!-- Login Logo -->\n",
      "                        <div class=\"row table-layout\">\n",
      "                            <img id=\"Logo\" class=\"center-block img-responsive\" src=\"assets/img/logos/icnea.net.png\" style=\"max-width: 275px;\" />\n",
      "                        </div>\n",
      "\n",
      "                        <!-- Login Panel/Form -->\n",
      "                        <div class=\"panel mt30 mb25\">\n",
      "                            <div class=\"panel-body bg-light p25 pb15\">\n",
      "\n",
      "                                <!-- Projecte Input -->\n",
      "                                <div class=\"section\">\n",
      "                                    <div class=\"row\">\n",
      "                                        <div class=\"col-md-6\">\n",
      "                                            <script type=\"text/javascript\">\n",
      "//<![CDATA[\n",
      "Sys.WebForms.PageRequestManager._initialize('ToolkitScriptManager1', 'frm', [], [], [], 90, '');\n",
      "//]]>\n",
      "</script>\n",
      "\n",
      "                                            \n",
      "                                            \n",
      "                                        </div>\n",
      "                                        <div class=\"col-md-6 idiomes-login\">\n",
      "                                            <ul class=\"nav navbar-nav navbar-right navbar-right idiomes\">\n",
      "                                                <li class=\"dropdown menu-merge\">\n",
      "                                                    <div class=\"navbar-btn btn-group\">\n",
      "                                                        <button data-toggle=\"dropdown\" class=\"btn btn-sm dropdown-toggle\">\n",
      "                                                            <span id=\"flag\" class=\"flag-xs flag-en\"></span>\n",
      "                                                            <input type=\"submit\" name=\"Id\" value=\"EN\" id=\"Id\" class=\"SupIdioma\" />\n",
      "                                                        </button>\n",
      "                                                        <ul class=\"dropdown-menu idiomes pv5 animated animated-short flipInX\" role=\"menu\">\n",
      "                                                            <li>\n",
      "                                                                <a id=\"En\" class=\"SupIdioma\" href=\"javascript:__doPostBack(&#39;En&#39;,&#39;&#39;)\"><span class=\"flag-xs flag-en mr5\"></span> EN</a>\n",
      "                                                            </li>\n",
      "                                                            <li>\n",
      "                                                                <a id=\"Es\" class=\"SupIdioma\" href=\"javascript:__doPostBack(&#39;Es&#39;,&#39;&#39;)\"><span class=\"flag-xs flag-es mr5\"></span> ES</a>\n",
      "                                                            </li>\n",
      "                                                            <li>\n",
      "                                                                <a id=\"De\" class=\"SupIdioma\" href=\"javascript:__doPostBack(&#39;De&#39;,&#39;&#39;)\"><span class=\"flag-xs flag-de mr5\"></span> DE</a>\n",
      "                                                            </li>\n",
      "                                                            <li>\n",
      "                                                                <a id=\"Fr\" class=\"SupIdioma\" href=\"javascript:__doPostBack(&#39;Fr&#39;,&#39;&#39;)\"><span class=\"flag-xs flag-fr mr5\"></span> FR</a>\n",
      "                                                            </li>\n",
      "                                                            <li>\n",
      "                                                                <a id=\"It\" class=\"SupIdioma\" href=\"javascript:__doPostBack(&#39;It&#39;,&#39;&#39;)\"><span class=\"flag-xs flag-it mr5\"></span> IT</a>\n",
      "                                                            </li>\n",
      "                                                            <li>\n",
      "                                                                <a id=\"Pt\" class=\"SupIdioma\" href=\"javascript:__doPostBack(&#39;Pt&#39;,&#39;&#39;)\"><span class=\"flag-xs flag-pt mr5\"></span> PT</a>\n",
      "                                                            </li>\n",
      "                                                            <li>\n",
      "                                                                <a id=\"Ca\" class=\"SupIdioma\" href=\"javascript:__doPostBack(&#39;Ca&#39;,&#39;&#39;)\"><span class=\"flag-xs flag-ca mr5\"></span> CA</a>\n",
      "                                                            </li>\n",
      "                                                       </ul>\n",
      "                                                    </div>\n",
      "                                                </li>\n",
      "                                            </ul>\n",
      "                                        </div>\n",
      "                                    </div>\n",
      "                                </div>\n",
      "\n",
      "                                <!-- Username Input -->\n",
      "                                <div class=\"section\">\n",
      "                                    <label for=\"Email\" class=\"field-label text-muted fs18 mb10\">\n",
      "                                        Email\n",
      "                                    </label>\n",
      "                                    <label for=\"username\" class=\"field prepend-icon\">\n",
      "                                        <input name=\"Email\" type=\"text\" maxlength=\"50\" id=\"Email\" class=\"gui-input\" placeholder=\"Enter username\" />\n",
      "                                        <label for=\"username\" class=\"field-icon\">\n",
      "                                            <i class=\"fa fa-user\"></i>\n",
      "                                        </label>\n",
      "                                    </label>\n",
      "                                </div>\n",
      "\n",
      "                                <!-- Password Input -->\n",
      "                                <div class=\"section\">\n",
      "                                    <label for=\"Contrasenya\" class=\"field-label text-muted fs18 mb10\">\n",
      "                                        Password</label>\n",
      "                                    <label for=\"password\" class=\"field prepend-icon\">\n",
      "                                        <input name=\"Contrasenya\" type=\"password\" maxlength=\"30\" id=\"Contrasenya\" class=\"gui-input\" placeholder=\"Enter password\" />\n",
      "                                        <label for=\"password\" class=\"field-icon\">\n",
      "                                            <i class=\"fa fa-lock\"></i>\n",
      "                                        </label>\n",
      "                                    </label>\n",
      "                                </div>\n",
      "                            </div>\n",
      "                            <div class=\"panel-footer clearfix\">\n",
      "                                <input type=\"submit\" name=\"Login\" value=\"Accept\" id=\"Login\" class=\"button btn-primary mr10 pull-right\" />\n",
      "                            </div>\n",
      "                        </div>\n",
      "                        <!-- Registration Links -->\n",
      "                        <div class=\"login-links\">\n",
      "                            <p>\n",
      "                                <a id=\"Recordar\" href=\"ServidorRecordar.aspx\">Did you forget your password?</a>\n",
      "                            </p>\n",
      "                        </div>\n",
      "                    </div>\n",
      "                </section>\n",
      "            </section>\n",
      "        </div>\n",
      "    </form>\n",
      "\n",
      "    <!-- Javascript -->\n",
      "    <script src=\"assets/js/jquery/jquery-3.5.1.min.js\"></script>\n",
      "    <script src=\"assets/js/jquery/jquery-ui.min.js\"></script>\n",
      "    <script src=\"assets/js/utility.js\"></script>\n",
      "    <script src=\"assets/js/demo.js\"></script>\n",
      "    <script src=\"assets/js/main.js\"></script>\n",
      "    <script>\n",
      "        jQuery(document).ready(function () {\n",
      "            \"use strict\";\n",
      "            Core.init();\n",
      "            Demo.init();\n",
      "        });\n",
      "    </script>\n",
      "</body>\n",
      "</html>\n",
      "\n"
     ]
    }
   ],
   "source": [
    "# Get the BASE_URL to see what is in the HTML. In the response you can see two variables \"_TSM_HiddenField_\"  that are later passed as requests payloads.\n",
    "response = session.get(BASE_URL)\n",
    "print(response.status_code)\n",
    "print(response.text)"
   ]
  },
  {
   "cell_type": "markdown",
   "metadata": {},
   "source": [
    "Inside the get response HTML there's a piece of code with some variables. It seems its a IIS technique to track sessions and if the values are not passed as payload in the request\n",
    "the server simply ignores your request.\n",
    "\n",
    "First parse the response HTML *scrap* those values and use them in later requests.\n",
    "\n",
    "``` html\n",
    "   <div class=\"aspNetHidden\">\n",
    "    <input id=\"_TSM_HiddenField_\" name=\"_TSM_HiddenField_\" type=\"hidden\" value=\"encoded text\"/>\n",
    "    <input id=\"__EVENTTARGET\" name=\"__EVENTTARGET\" type=\"hidden\" value=\"\"/>\n",
    "    <input id=\"__EVENTARGUMENT\" name=\"__EVENTARGUMENT\" type=\"hidden\" value=\"\"/>\n",
    "    <input id=\"__VIEWSTATE\" name=\"__VIEWSTATE\" type=\"hidden\" value=\"humongous text\"/>\n",
    "   </div>\n",
    "```"
   ]
  },
  {
   "cell_type": "code",
   "execution_count": 144,
   "metadata": {},
   "outputs": [
    {
     "name": "stdout",
     "output_type": "stream",
     "text": [
      "{'_TSM_HiddenField_': 'ZaMfZ6yYhPPHZ1NeEf8j6-t902-6pHpn2MehV0eep-I1', '__EVENTTARGET': '', '__EVENTARGUMENT': '', '__VIEWSTATE': 'uUiMtb3NcR04QfueQe0MAMvmnxWy1dEvPfTpEKTkzkNExZDHhi4EyWUIn6aIY/IABvqCJPW2gLNrfnws4SSgImGc+RG+//LlmiIKvZIu9i06C3enmHRzF2FAMg+23Gin/GrScbwq5BRGizKCxwf+A1Ep/H661VJgOn6Xu+7HQOYoqvO/RK6wDw3STtwe7c5ERv62F4DRH84SELt3H8Sn8IeJGbWvYhOzoWOdXcTVFYzvxWZG1yvtDC9Zy+L6A/JNt7ArzHbCer7RGii3o9ft7+iAutfJH5mh9/dl0lL9IpZRGTNPQL3De7FWVudu/aH4lzJiE1HZOxl/BCn70s575iwWhSJTZ4FSLXJDfzooOUtBAdV1JClIZSlH6lbpHHEjdl66CqHVAnaKZZnQb9pDUY82OlRGOyNnTb4+pF2IGNaIXLUJ6ozmikS3tkQtyQtL7G6qf5ZTLDGdC0SVcNaP65tR5vfshtNyu+Gciot1SGH7cGBy87u8qiTEo0FlZntedC0vyFBP0pdptrQ7dZPcxWXGwVMbCctJAhAwhnUK0m0/lbAmY2dOyaS1PtHZg6f2yPSkzPMIDuo8cNKULqX07aHYzi9fSahCuG+2g0SLsDQjrI/e9M16/RcqIRF/tWJW0ILKszPPTjaxKq+4d6MR2rthlvZjg+n7bi1pdtGa8x7F2yhCeKgy0PYgrPL5XxWSLodqZ4JO/dSyqorgkmDnbPEnUj8ShC13jt6XPxMTegsyHksMztIAuHI/bSxxozdPjUcQ/mDERaJ5UbOKPbJVClXuC3nFKLAS2i32d4KHtltJeJnL4/mj7dcRraXygXy/XTrRdgoaBGxg/LQNwK7f767PLiIfvg5pIPhLxqNSMpG9ijBPcGQLsIG8Zrq0HQO329G6Ry1n02AZQHdlG59Ifwib7Ek0Umyq9jwWZZkhXAR1Si97CDyv/Y58ysvSAKumgYcsx3VGomIHQsncI/3jS1j7sr0SJrSXM/f/h8lLKHW1vyHJ5g3smpNgImUQNajCAFSmFqPzmstuE7sbpr52dX54/qBBv92+IdZWNFmGeesc2fqQ4lTwokJA0q6oSVeWHVo0jQuTByxflJfW+2HvKA==', '__VIEWSTATEGENERATOR': '899FD010', 'idi': '2'}\n"
     ]
    }
   ],
   "source": [
    "# Parse the response of a request to get these values.\n",
    "soup = BeautifulSoup(response.text, 'html.parser')\n",
    "payload_match = soup.find_all('input', attrs={'type':'hidden'})\n",
    "payload = {}\n",
    "for input_tag in payload_match:\n",
    "    if input_tag.has_attr('name') and input_tag.has_attr('value'):\n",
    "        dict_key = input_tag.attrs['name']\n",
    "        dict_value = input_tag.attrs['value']\n",
    "        payload[dict_key] = dict_value\n",
    "    else:\n",
    "        pass\n",
    "print(payload)"
   ]
  },
  {
   "cell_type": "code",
   "execution_count": 145,
   "metadata": {},
   "outputs": [],
   "source": [
    "# And better turn it into a function for later use\n",
    "def get_viewstate(response_text):\n",
    "    '''\n",
    "        Given an html text from a response parses the html in search of aspNetHidden\n",
    "        values and return them as a dictionary so they can be used in the next request as payload\n",
    "    '''\n",
    "    soup = BeautifulSoup(response.text, 'html.parser')\n",
    "    payload_match = soup.find_all('input', attrs={'type':'hidden'})\n",
    "    payload = {}\n",
    "    for input_tag in payload_match:\n",
    "        if input_tag.has_attr('name') and input_tag.has_attr('value'):\n",
    "            dict_key = input_tag.attrs['name']\n",
    "            dict_value = input_tag.attrs['value']\n",
    "            payload[dict_key] = dict_value\n",
    "        else:\n",
    "            pass\n",
    "    return payload"
   ]
  },
  {
   "cell_type": "code",
   "execution_count": 148,
   "metadata": {},
   "outputs": [
    {
     "name": "stdout",
     "output_type": "stream",
     "text": [
      "{'_TSM_HiddenField_': 'ZaMfZ6yYhPPHZ1NeEf8j6-t902-6pHpn2MehV0eep-I1', '__EVENTTARGET': '', '__EVENTARGUMENT': '', '__VIEWSTATE': 'uUiMtb3NcR04QfueQe0MAMvmnxWy1dEvPfTpEKTkzkNExZDHhi4EyWUIn6aIY/IABvqCJPW2gLNrfnws4SSgImGc+RG+//LlmiIKvZIu9i06C3enmHRzF2FAMg+23Gin/GrScbwq5BRGizKCxwf+A1Ep/H661VJgOn6Xu+7HQOYoqvO/RK6wDw3STtwe7c5ERv62F4DRH84SELt3H8Sn8IeJGbWvYhOzoWOdXcTVFYzvxWZG1yvtDC9Zy+L6A/JNt7ArzHbCer7RGii3o9ft7+iAutfJH5mh9/dl0lL9IpZRGTNPQL3De7FWVudu/aH4lzJiE1HZOxl/BCn70s575iwWhSJTZ4FSLXJDfzooOUtBAdV1JClIZSlH6lbpHHEjdl66CqHVAnaKZZnQb9pDUY82OlRGOyNnTb4+pF2IGNaIXLUJ6ozmikS3tkQtyQtL7G6qf5ZTLDGdC0SVcNaP65tR5vfshtNyu+Gciot1SGH7cGBy87u8qiTEo0FlZntedC0vyFBP0pdptrQ7dZPcxWXGwVMbCctJAhAwhnUK0m0/lbAmY2dOyaS1PtHZg6f2yPSkzPMIDuo8cNKULqX07aHYzi9fSahCuG+2g0SLsDQjrI/e9M16/RcqIRF/tWJW0ILKszPPTjaxKq+4d6MR2rthlvZjg+n7bi1pdtGa8x7F2yhCeKgy0PYgrPL5XxWSLodqZ4JO/dSyqorgkmDnbPEnUj8ShC13jt6XPxMTegsyHksMztIAuHI/bSxxozdPjUcQ/mDERaJ5UbOKPbJVClXuC3nFKLAS2i32d4KHtltJeJnL4/mj7dcRraXygXy/XTrRdgoaBGxg/LQNwK7f767PLiIfvg5pIPhLxqNSMpG9ijBPcGQLsIG8Zrq0HQO329G6Ry1n02AZQHdlG59Ifwib7Ek0Umyq9jwWZZkhXAR1Si97CDyv/Y58ysvSAKumgYcsx3VGomIHQsncI/3jS1j7sr0SJrSXM/f/h8lLKHW1vyHJ5g3smpNgImUQNajCAFSmFqPzmstuE7sbpr52dX54/qBBv92+IdZWNFmGeesc2fqQ4lTwokJA0q6oSVeWHVo0jQuTByxflJfW+2HvKA==', '__VIEWSTATEGENERATOR': '899FD010', 'idi': '2', 'Email': 'hello@bravissimo-girona.com', 'Contrasenya': 'dav$036$alc', 'Login': 'Accept'}\n"
     ]
    }
   ],
   "source": [
    "# Check that it works as expected\n",
    "payload = get_viewstate(response.text)\n",
    "payload['Email'] = USER\n",
    "payload['Contrasenya'] = PASSWORD\n",
    "payload['Login'] = 'Accept'\n",
    "print(payload)"
   ]
  },
  {
   "cell_type": "markdown",
   "metadata": {},
   "source": [
    "Lets recap:\n",
    "* We have a session\n",
    "* We have custom headers\n",
    "* We have captured basic cookies\n",
    "* We have parsed the aspNetHidden thingy\n",
    "\n",
    "Next try to properly authenticate an see what we get"
   ]
  },
  {
   "cell_type": "code",
   "execution_count": 157,
   "metadata": {},
   "outputs": [],
   "source": [
    "with requests.session() as session:\n",
    "    session.headers.update(headers)\n",
    "    get_response = session.get(BASE_URL)\n",
    "    payload = get_viewstate(get_response.text)\n",
    "    post_response = session.post(BASE_URL,data=payload)\n",
    "with open('test.html','w') as file:\n",
    "    file.write(post_response.text)\n",
    "# Still getting the login screen back."
   ]
  },
  {
   "cell_type": "markdown",
   "metadata": {},
   "source": [
    "## Selenium\n",
    "---"
   ]
  },
  {
   "cell_type": "code",
   "execution_count": null,
   "metadata": {},
   "outputs": [],
   "source": []
  }
 ],
 "metadata": {
  "kernelspec": {
   "display_name": "Python 3.8.13 (conda)",
   "language": "python",
   "name": "python3"
  },
  "language_info": {
   "codemirror_mode": {
    "name": "ipython",
    "version": 3
   },
   "file_extension": ".py",
   "mimetype": "text/x-python",
   "name": "python",
   "nbconvert_exporter": "python",
   "pygments_lexer": "ipython3",
   "version": "3.8.13"
  },
  "orig_nbformat": 4,
  "vscode": {
   "interpreter": {
    "hash": "126751fd5b3b697da08abf0958adc9e2afc17784abd2105ed71891d034c6fff1"
   }
  }
 },
 "nbformat": 4,
 "nbformat_minor": 2
}
